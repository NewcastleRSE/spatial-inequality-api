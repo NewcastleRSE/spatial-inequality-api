{
 "cells": [
  {
   "cell_type": "code",
   "execution_count": 1,
   "metadata": {},
   "outputs": [],
   "source": [
    "from spineq.optimise import get_optimisation_inputs\n",
    "from spineq.utils import coverage_matrix\n",
    "from spineq.plotting import plot_optimisation_result\n",
    "from spineq.data_fetcher import get_oa_shapes, get_oa_centroids\n",
    "\n",
    "import pygmo as pg\n",
    "\n",
    "import numpy as np\n",
    "import pandas as pd\n",
    "\n",
    "from time import time\n",
    "\n",
    "import matplotlib.pyplot as plt\n",
    "%matplotlib inline"
   ]
  },
  {
   "cell_type": "code",
   "execution_count": 2,
   "metadata": {},
   "outputs": [],
   "source": [
    "n_sensors = 20\n",
    "theta = 500\n",
    "\n",
    "population_weight = 1\n",
    "workplace_weight = 1\n",
    "pop_age_groups = {\n",
    "    \"pop_total\": {\"min\": 0, \"max\": 90, \"weight\": 0},\n",
    "    \"pop_children\": {\"min\": 0, \"max\": 16, \"weight\": 0},\n",
    "    \"pop_elderly\": {\"min\": 70, \"max\": 90, \"weight\": 1},\n",
    "}"
   ]
  },
  {
   "cell_type": "markdown",
   "metadata": {},
   "source": [
    "## Get Input Data"
   ]
  },
  {
   "cell_type": "code",
   "execution_count": 3,
   "metadata": {},
   "outputs": [
    {
     "data": {
      "text/plain": [
       "['pop_elderly', 'workplace']"
      ]
     },
     "execution_count": 3,
     "metadata": {},
     "output_type": "execute_result"
    }
   ],
   "source": [
    "data = get_optimisation_inputs(\n",
    "    population_weight=population_weight,\n",
    "    workplace_weight=workplace_weight,\n",
    "    pop_age_groups=pop_age_groups,\n",
    "    combine=False,\n",
    ")\n",
    "\n",
    "objs = list(data[\"oa_weight\"].keys())\n",
    "objs"
   ]
  },
  {
   "cell_type": "markdown",
   "metadata": {},
   "source": [
    "## PyGMO Multi-Objective Problem\n",
    "\n",
    "- One decision variable for each sen?sor to be placed, variable value is index of location\n",
    "- One objective per separate weight group defined above, e.g. total population, children, elderly and workplace."
   ]
  },
  {
   "cell_type": "code",
   "execution_count": 4,
   "metadata": {},
   "outputs": [],
   "source": [
    "# PyGMO User Defined Problem\n",
    "class optimise_oa:\n",
    "    def __init__(self, oa_x, oa_y, oa_weight,\n",
    "                 n_sensors, theta):\n",
    "        \n",
    "        self.n_sensors = n_sensors\n",
    "        self.n_locations = len(oa_x)\n",
    "        self.n_obj = len(oa_weight)\n",
    "        self.oa_weight = oa_weight\n",
    "        self.coverage = coverage_matrix(oa_x, oa_y, theta=theta)\n",
    "          \n",
    "    def fitness(self, sensors_idx):\n",
    "        \"\"\"\n",
    "        PyGMO required function.\n",
    "        The objective function to minimise. And constraints to evaluate.\n",
    "        \"\"\"\n",
    "        # Construct sensors vector from indices\n",
    "        sensors = np.zeros(self.n_locations)\n",
    "        sensors[sensors_idx.astype(int)] = 1\n",
    "        \n",
    "        fitness_sensors = []\n",
    "        for w in self.oa_weight.values():\n",
    "            # only keep coverages due to output areas where a sensor is present\n",
    "            mask_cov = np.multiply(self.coverage, sensors[np.newaxis, :])\n",
    "\n",
    "            # coverage at each output area = coverage due to nearest sensor\n",
    "            max_mask_cov = np.max(mask_cov, axis=1)\n",
    "\n",
    "            # weighted coverage of solution = the objective\n",
    "            fitness_sensors.append(\n",
    "                -(w * max_mask_cov).sum() / w.sum()\n",
    "            )\n",
    "        \n",
    "        return fitness_sensors\n",
    "    \n",
    "    def get_bounds(self):\n",
    "        \"\"\"\n",
    "        PyGMO required function.\n",
    "        Defines min and max value for each parameter.\n",
    "        \"\"\"\n",
    "        return ([0]*self.n_sensors, [self.n_locations-1]*self.n_sensors)\n",
    "    \n",
    "    # Return number of objectives\n",
    "    def get_nobj(self):\n",
    "        return self.n_obj\n",
    "    \n",
    "    def get_nec(self):\n",
    "        \"\"\"PyGMO function.\n",
    "        Defines number of equality constraints.\"\"\"\n",
    "        return 0\n",
    "    \n",
    "    def get_nix(self):\n",
    "        \"\"\"\n",
    "        PyGMO function.\n",
    "        Number of integer dimensions.\n",
    "        \"\"\"\n",
    "        return self.n_sensors\n",
    "    \n",
    "    def gradient(self, x):\n",
    "        return pg.estimate_gradient_h(lambda x: self.fitness(x), x)\n",
    "    \n"
   ]
  },
  {
   "cell_type": "code",
   "execution_count": 5,
   "metadata": {},
   "outputs": [
    {
     "name": "stdout",
     "output_type": "stream",
     "text": [
      "Problem name: <class '__main__.optimise_oa'>\n",
      "\tC++ class name: pybind11::object\n",
      "\n",
      "\tGlobal dimension:\t\t\t20\n",
      "\tInteger dimension:\t\t\t20\n",
      "\tFitness dimension:\t\t\t2\n",
      "\tNumber of objectives:\t\t\t2\n",
      "\tEquality constraints dimension:\t\t0\n",
      "\tInequality constraints dimension:\t0\n",
      "\tLower bounds: [0, 0, 0, 0, 0, ... ]\n",
      "\tUpper bounds: [951, 951, 951, 951, 951, ... ]\n",
      "\tHas batch fitness evaluation: false\n",
      "\n",
      "\tHas gradient: true\n",
      "\tUser implemented gradient sparsity: false\n",
      "\tExpected gradients: 40\n",
      "\tHas hessians: false\n",
      "\tUser implemented hessians sparsity: false\n",
      "\n",
      "\tFitness evaluations: 0\n",
      "\tGradient evaluations: 0\n",
      "\n",
      "\tThread safety: none\n",
      "\n"
     ]
    }
   ],
   "source": [
    "# Build problem\n",
    "oa_opt = optimise_oa(\n",
    "    data[\"oa_x\"],\n",
    "    data[\"oa_y\"],\n",
    "    data[\"oa_weight\"],\n",
    "    n_sensors,\n",
    "    theta,\n",
    ")\n",
    "\n",
    "prob = pg.problem(oa_opt)\n",
    "\n",
    "print(prob)"
   ]
  },
  {
   "cell_type": "markdown",
   "metadata": {},
   "source": [
    "## NSGA2"
   ]
  },
  {
   "cell_type": "code",
   "execution_count": 6,
   "metadata": {
    "scrolled": true
   },
   "outputs": [
    {
     "name": "stdout",
     "output_type": "stream",
     "text": [
      "Algorithm name: NSGA-II: [stochastic]\n",
      "\tC++ class name: pagmo::nsga2\n",
      "\n",
      "\tThread safety: basic\n",
      "\n",
      "Extra info:\n",
      "\tGenerations: 1000\n",
      "\tCrossover probability: 0.95\n",
      "\tDistribution index for crossover: 10\n",
      "\tMutation probability: 0.01\n",
      "\tDistribution index for mutation: 50\n",
      "\tSeed: 3843609999\n",
      "\tVerbosity: 1\n"
     ]
    }
   ],
   "source": [
    "# Create algorithm to solve problem with\n",
    "algo = pg.algorithm(uda = pg.nsga2(gen=1000))\n",
    "algo.set_verbosity(1)\n",
    "print(algo)\n",
    "\n",
    "# population of problems\n",
    "pop = pg.population(prob=prob, size=100)\n"
   ]
  },
  {
   "cell_type": "code",
   "execution_count": 7,
   "metadata": {},
   "outputs": [
    {
     "name": "stdout",
     "output_type": "stream",
     "text": [
      "f evals 100100\n",
      "g evals 0\n"
     ]
    },
    {
     "data": {
      "text/plain": [
       "Text(0, 0.5, 'workplace')"
      ]
     },
     "execution_count": 7,
     "metadata": {},
     "output_type": "execute_result"
    },
    {
     "data": {
      "image/png": "[encoded data removed]",
      "text/plain": [
       "<Figure size 576x432 with 1 Axes>"
      ]
     },
     "metadata": {
      "needs_background": "light"
     },
     "output_type": "display_data"
    }
   ],
   "source": [
    "# solve problem\n",
    "pop = algo.evolve(pop)\n",
    "\n",
    "print(\"f evals\", pop.problem.get_fevals())\n",
    "print(\"g evals\", pop.problem.get_gevals())\n",
    "\n",
    "# extract results\n",
    "fits, vectors = pop.get_f(), pop.get_x()\n",
    "# extract non-dominated fronts\n",
    "ndf, dl, dc, ndr = pg.fast_non_dominated_sorting(fits)\n",
    "\n",
    "# plot fitness values for first two objectives\n",
    "plt.figure(figsize=(8,6))\n",
    "plt.plot(-fits[:,0], -fits[:,1], 'o')\n",
    "plt.xlabel(objs[0], fontsize=14)\n",
    "plt.ylabel(objs[1], fontsize=14)"
   ]
  },
  {
   "cell_type": "code",
   "execution_count": 8,
   "metadata": {},
   "outputs": [
    {
     "data": {
      "text/plain": [
       "array([[0.19249925, 0.55834652],\n",
       "       [0.19253068, 0.55736084],\n",
       "       [0.19920969, 0.55727066],\n",
       "       [0.19920969, 0.55727066],\n",
       "       [0.20569238, 0.55669663],\n",
       "       [0.20590085, 0.55578185],\n",
       "       [0.21240282, 0.55562077],\n",
       "       [0.21403557, 0.55446186],\n",
       "       [0.22020735, 0.55383989],\n",
       "       [0.22020735, 0.55383989],\n",
       "       [0.22250433, 0.55252439],\n",
       "       [0.22250433, 0.55252439],\n",
       "       [0.22408461, 0.55023205],\n",
       "       [0.22571736, 0.54907314],\n",
       "       [0.23046229, 0.54828037],\n",
       "       [0.23191731, 0.54705832],\n",
       "       [0.23421429, 0.54574282],\n",
       "       [0.23532837, 0.5441807 ],\n",
       "       [0.23579457, 0.54345048],\n",
       "       [0.23718551, 0.54196522],\n",
       "       [0.2417817 , 0.53956565],\n",
       "       [0.24192345, 0.53861384],\n",
       "       [0.2438575 , 0.53823616],\n",
       "       [0.24543778, 0.53594382],\n",
       "       [0.24543778, 0.53594382],\n",
       "       [0.24842697, 0.53456793],\n",
       "       [0.24889094, 0.53258157],\n",
       "       [0.25187876, 0.52928747],\n",
       "       [0.25251236, 0.52836155],\n",
       "       [0.25416857, 0.52802859],\n",
       "       [0.2548052 , 0.52789157],\n",
       "       [0.25622246, 0.5266816 ],\n",
       "       [0.25705556, 0.52639328],\n",
       "       [0.25806548, 0.52457701],\n",
       "       [0.25886343, 0.52043185],\n",
       "       [0.25993266, 0.51552691],\n",
       "       [0.26167623, 0.51340568],\n",
       "       [0.26314293, 0.51219143],\n",
       "       [0.26423621, 0.51022225],\n",
       "       [0.26642316, 0.50797258],\n",
       "       [0.26642316, 0.50797258],\n",
       "       [0.26875819, 0.50760266],\n",
       "       [0.26875819, 0.50760266],\n",
       "       [0.27041625, 0.50555062],\n",
       "       [0.27101343, 0.49955907],\n",
       "       [0.27281726, 0.49843105],\n",
       "       [0.2746647 , 0.49712969],\n",
       "       [0.27514716, 0.4959673 ],\n",
       "       [0.27703919, 0.49484968],\n",
       "       [0.27778735, 0.49454232],\n",
       "       [0.27799403, 0.48554095],\n",
       "       [0.27902716, 0.48359901],\n",
       "       [0.27938156, 0.48160454],\n",
       "       [0.28150816, 0.48094156],\n",
       "       [0.28244992, 0.47918963],\n",
       "       [0.2839516 , 0.47685776],\n",
       "       [0.28431798, 0.47595303],\n",
       "       [0.28675061, 0.47450147],\n",
       "       [0.28845078, 0.47100213],\n",
       "       [0.28845078, 0.47100213],\n",
       "       [0.28868167, 0.46349742],\n",
       "       [0.28980693, 0.46169198],\n",
       "       [0.29012417, 0.46078652],\n",
       "       [0.29098275, 0.45187347],\n",
       "       [0.29238147, 0.44915174],\n",
       "       [0.2937014 , 0.44899207],\n",
       "       [0.29510012, 0.44627033],\n",
       "       [0.29665778, 0.44279412],\n",
       "       [0.29701587, 0.44253787],\n",
       "       [0.29875944, 0.44041663],\n",
       "       [0.30013701, 0.43783286],\n",
       "       [0.30013701, 0.43783286],\n",
       "       [0.30056079, 0.42072596],\n",
       "       [0.30230474, 0.41723746],\n",
       "       [0.30330521, 0.41405236],\n",
       "       [0.30351299, 0.38923105],\n",
       "       [0.30383023, 0.38832558],\n",
       "       [0.3040971 , 0.38123321],\n",
       "       [0.30613062, 0.38074862],\n",
       "       [0.30824841, 0.37781602],\n",
       "       [0.30920354, 0.37587548],\n",
       "       [0.30928433, 0.35816375],\n",
       "       [0.31046986, 0.355018  ],\n",
       "       [0.31160168, 0.35407488],\n",
       "       [0.3125568 , 0.35213434],\n",
       "       [0.31301453, 0.32680535],\n",
       "       [0.31333176, 0.32589989],\n",
       "       [0.31360647, 0.30764062],\n",
       "       [0.31408376, 0.30535988],\n",
       "       [0.31432923, 0.28440745],\n",
       "       [0.3146956 , 0.28350273],\n",
       "       [0.31581683, 0.27954002],\n",
       "       [0.31613407, 0.27863455],\n",
       "       [0.31743034, 0.2246756 ],\n",
       "       [0.31805431, 0.22166339],\n",
       "       [0.31819628, 0.21698436],\n",
       "       [0.31851352, 0.2160789 ],\n",
       "       [0.31881529, 0.19227735],\n",
       "       [0.31932924, 0.18698185],\n",
       "       [0.31964647, 0.18607638]])"
      ]
     },
     "execution_count": 8,
     "metadata": {},
     "output_type": "execute_result"
    }
   ],
   "source": [
    "# sort fits in order of first objective value\n",
    "x = -fits.copy()\n",
    "x[x[:, 0].argsort()]"
   ]
  },
  {
   "cell_type": "markdown",
   "metadata": {},
   "source": [
    "## Other Algorithms"
   ]
  },
  {
   "cell_type": "code",
   "execution_count": 9,
   "metadata": {
    "scrolled": true
   },
   "outputs": [
    {
     "name": "stdout",
     "output_type": "stream",
     "text": [
      "Algorithm name: MOEAD: MOEA/D - DE [stochastic]\n",
      "\tC++ class name: pagmo::moead\n",
      "\n",
      "\tThread safety: basic\n",
      "\n",
      "Extra info:\n",
      "\tGenerations: 100\n",
      "\tWeight generation: grid\n",
      "\tDecomposition method: tchebycheff\n",
      "\tNeighbourhood size: 20\n",
      "\tParameter CR: 1\n",
      "\tParameter F: 0.5\n",
      "\tDistribution index: 20\n",
      "\tChance for diversity preservation: 0.9\n",
      "\tSeed: 1120393477\n",
      "\tVerbosity: 1\n"
     ]
    }
   ],
   "source": [
    "# Create algorithm to solve problem with\n",
    "algo = pg.algorithm(uda = pg.moead(gen=100))\n",
    "algo.set_verbosity(1)\n",
    "print(algo)\n",
    "\n",
    "# population of problems\n",
    "pop = pg.population(prob=prob, size=105)\n"
   ]
  },
  {
   "cell_type": "code",
   "execution_count": 10,
   "metadata": {},
   "outputs": [
    {
     "name": "stdout",
     "output_type": "stream",
     "text": [
      "f evals 10605\n",
      "g evals 0\n"
     ]
    },
    {
     "data": {
      "text/plain": [
       "Text(0, 0.5, 'workplace')"
      ]
     },
     "execution_count": 10,
     "metadata": {},
     "output_type": "execute_result"
    },
    {
     "data": {
      "image/png": "[encoded data removed]",
      "text/plain": [
       "<Figure size 576x432 with 1 Axes>"
      ]
     },
     "metadata": {
      "needs_background": "light"
     },
     "output_type": "display_data"
    }
   ],
   "source": [
    "# solve problem\n",
    "pop = algo.evolve(pop)\n",
    "\n",
    "print(\"f evals\", pop.problem.get_fevals())\n",
    "print(\"g evals\", pop.problem.get_gevals())\n",
    "\n",
    "# extract results\n",
    "fits, vectors = pop.get_f(), pop.get_x()\n",
    "# extract non-dominated fronts\n",
    "ndf, dl, dc, ndr = pg.fast_non_dominated_sorting(fits)\n",
    "\n",
    "# plot fitness values for first two objectives\n",
    "plt.figure(figsize=(8,6))\n",
    "plt.plot(-fits[:,0], -fits[:,1], 'o')\n",
    "plt.xlabel(objs[0], fontsize=14)\n",
    "plt.ylabel(objs[1], fontsize=14)"
   ]
  },
  {
   "cell_type": "markdown",
   "metadata": {},
   "source": [
    "## 3 Objectives?"
   ]
  },
  {
   "cell_type": "code",
   "execution_count": 11,
   "metadata": {},
   "outputs": [
    {
     "data": {
      "text/plain": [
       "['pop_children', 'pop_elderly', 'workplace']"
      ]
     },
     "execution_count": 11,
     "metadata": {},
     "output_type": "execute_result"
    }
   ],
   "source": [
    "population_weight = 1\n",
    "workplace_weight = 1\n",
    "pop_age_groups = {\n",
    "    \"pop_total\": {\"min\": 0, \"max\": 90, \"weight\": 0},\n",
    "    \"pop_children\": {\"min\": 0, \"max\": 16, \"weight\": 1},\n",
    "    \"pop_elderly\": {\"min\": 70, \"max\": 90, \"weight\": 1},\n",
    "}\n",
    "\n",
    "data = get_optimisation_inputs(\n",
    "    population_weight=population_weight,\n",
    "    workplace_weight=workplace_weight,\n",
    "    pop_age_groups=pop_age_groups,\n",
    "    combine=False,\n",
    ")\n",
    "\n",
    "\n",
    "objs = list(data[\"oa_weight\"].keys())\n",
    "objs"
   ]
  },
  {
   "cell_type": "code",
   "execution_count": 12,
   "metadata": {},
   "outputs": [
    {
     "name": "stdout",
     "output_type": "stream",
     "text": [
      "Problem name: <class '__main__.optimise_oa'>\n",
      "\tC++ class name: pybind11::object\n",
      "\n",
      "\tGlobal dimension:\t\t\t20\n",
      "\tInteger dimension:\t\t\t20\n",
      "\tFitness dimension:\t\t\t3\n",
      "\tNumber of objectives:\t\t\t3\n",
      "\tEquality constraints dimension:\t\t0\n",
      "\tInequality constraints dimension:\t0\n",
      "\tLower bounds: [0, 0, 0, 0, 0, ... ]\n",
      "\tUpper bounds: [951, 951, 951, 951, 951, ... ]\n",
      "\tHas batch fitness evaluation: false\n",
      "\n",
      "\tHas gradient: true\n",
      "\tUser implemented gradient sparsity: false\n",
      "\tExpected gradients: 60\n",
      "\tHas hessians: false\n",
      "\tUser implemented hessians sparsity: false\n",
      "\n",
      "\tFitness evaluations: 0\n",
      "\tGradient evaluations: 0\n",
      "\n",
      "\tThread safety: none\n",
      "\n"
     ]
    }
   ],
   "source": [
    "# Build problem\n",
    "oa_opt = optimise_oa(\n",
    "    data[\"oa_x\"],\n",
    "    data[\"oa_y\"],\n",
    "    data[\"oa_weight\"],\n",
    "    n_sensors,\n",
    "    theta,\n",
    ")\n",
    "\n",
    "prob = pg.problem(oa_opt)\n",
    "\n",
    "print(prob)"
   ]
  },
  {
   "cell_type": "code",
   "execution_count": 13,
   "metadata": {},
   "outputs": [
    {
     "name": "stdout",
     "output_type": "stream",
     "text": [
      "Algorithm name: NSGA-II: [stochastic]\n",
      "\tC++ class name: pagmo::nsga2\n",
      "\n",
      "\tThread safety: basic\n",
      "\n",
      "Extra info:\n",
      "\tGenerations: 1000\n",
      "\tCrossover probability: 0.95\n",
      "\tDistribution index for crossover: 10\n",
      "\tMutation probability: 0.01\n",
      "\tDistribution index for mutation: 50\n",
      "\tSeed: 3732281879\n",
      "\tVerbosity: 1\n"
     ]
    }
   ],
   "source": [
    "# Create algorithm to solve problem with\n",
    "algo = pg.algorithm(uda = pg.nsga2(gen=1000))\n",
    "algo.set_verbosity(1)\n",
    "print(algo)\n",
    "\n",
    "# population of problems\n",
    "pop = pg.population(prob=prob, size=100)\n"
   ]
  },
  {
   "cell_type": "code",
   "execution_count": 14,
   "metadata": {},
   "outputs": [
    {
     "name": "stdout",
     "output_type": "stream",
     "text": [
      "f evals 100100\n",
      "g evals 0\n",
      "Best fitness values for single objectives:\n",
      "pop_children -0.330662458048548\n",
      "pop_elderly -0.317021211677647\n",
      "workplace -0.5591696537860886\n"
     ]
    }
   ],
   "source": [
    "# solve problem\n",
    "pop = algo.evolve(pop)\n",
    "\n",
    "print(\"f evals\", pop.problem.get_fevals())\n",
    "print(\"g evals\", pop.problem.get_gevals())\n",
    "\n",
    "# extract results\n",
    "fits, vectors = pop.get_f(), pop.get_x()\n",
    "# extract non-dominated fronts\n",
    "ndf, dl, dc, ndr = pg.fast_non_dominated_sorting(fits)\n",
    "\n",
    "print(\"Best fitness values for single objectives:\")\n",
    "for i in range(len(objs)):\n",
    "    print(objs[i], fits[:,i].min())"
   ]
  },
  {
   "cell_type": "code",
   "execution_count": 15,
   "metadata": {},
   "outputs": [
    {
     "data": {
      "text/plain": [
       "Text(0, 0.5, 'workplace')"
      ]
     },
     "execution_count": 15,
     "metadata": {},
     "output_type": "execute_result"
    },
    {
     "data": {
      "image/png": "[encoded data removed]",
      "text/plain": [
       "<Figure size 576x432 with 1 Axes>"
      ]
     },
     "metadata": {
      "needs_background": "light"
     },
     "output_type": "display_data"
    },
    {
     "data": {
      "image/png": "[encoded data removed]",
      "text/plain": [
       "<Figure size 576x432 with 1 Axes>"
      ]
     },
     "metadata": {
      "needs_background": "light"
     },
     "output_type": "display_data"
    },
    {
     "data": {
      "image/png": "[encoded data removed]",
      "text/plain": [
       "<Figure size 576x432 with 1 Axes>"
      ]
     },
     "metadata": {
      "needs_background": "light"
     },
     "output_type": "display_data"
    }
   ],
   "source": [
    "# plot fitness values for two objectives\n",
    "objs = list(data[\"oa_weight\"].keys())\n",
    "\n",
    "plt.figure(figsize=(8,6))\n",
    "plt.plot(-fits[:,0], -fits[:,1], 'o')\n",
    "plt.xlabel(objs[0], fontsize=14)\n",
    "plt.ylabel(objs[1], fontsize=14)\n",
    "\n",
    "plt.figure(figsize=(8,6))\n",
    "plt.plot(-fits[:,0], -fits[:,2], 'o')\n",
    "plt.xlabel(objs[0], fontsize=14)\n",
    "plt.ylabel(objs[2], fontsize=14)\n",
    "\n",
    "plt.figure(figsize=(8,6))\n",
    "plt.plot(-fits[:,1], -fits[:,2], 'o')\n",
    "plt.xlabel(objs[1], fontsize=14)\n",
    "plt.ylabel(objs[2], fontsize=14)"
   ]
  },
  {
   "cell_type": "code",
   "execution_count": 16,
   "metadata": {},
   "outputs": [
    {
     "data": {
      "text/plain": [
       "<matplotlib.legend.Legend at 0x7fbf28945550>"
      ]
     },
     "execution_count": 16,
     "metadata": {},
     "output_type": "execute_result"
    },
    {
     "data": {
      "image/png": "[encoded data removed]",
      "text/plain": [
       "<Figure size 576x432 with 1 Axes>"
      ]
     },
     "metadata": {
      "needs_background": "light"
     },
     "output_type": "display_data"
    }
   ],
   "source": [
    "plt.figure(figsize=(8,6))\n",
    "plt.plot(-fits[:,0], -fits[:,1], 'o', label=objs[1])\n",
    "plt.plot(-fits[:,0], -fits[:,2], 'o', label=objs[2])\n",
    "plt.xlabel(objs[0], fontsize=14)\n",
    "plt.ylabel(\"fitness\", fontsize=14)\n",
    "plt.legend()"
   ]
  },
  {
   "cell_type": "code",
   "execution_count": 17,
   "metadata": {},
   "outputs": [
    {
     "data": {
      "text/plain": [
       "array([[0.22029356, 0.23931146, 0.532006  ],\n",
       "       [0.2222768 , 0.244512  , 0.53104019],\n",
       "       [0.2270165 , 0.24331116, 0.52989657],\n",
       "       [0.22930967, 0.21450408, 0.55828962],\n",
       "       [0.22995019, 0.2359406 , 0.53829345],\n",
       "       [0.23181289, 0.24686811, 0.52545641],\n",
       "       [0.23198076, 0.21166653, 0.55916965],\n",
       "       [0.23293723, 0.24300924, 0.52632346],\n",
       "       [0.23523211, 0.23513387, 0.54866938],\n",
       "       [0.23523211, 0.23513387, 0.54866938],\n",
       "       [0.23597808, 0.21007413, 0.55782665],\n",
       "       [0.23948628, 0.2382967 , 0.53270967],\n",
       "       [0.24148032, 0.24520776, 0.5152837 ],\n",
       "       [0.24539966, 0.25682851, 0.50457673],\n",
       "       [0.24813091, 0.22221296, 0.55732804],\n",
       "       [0.24813091, 0.22221296, 0.55732804],\n",
       "       [0.25139322, 0.27320231, 0.45297383],\n",
       "       [0.25262011, 0.20722793, 0.55748743],\n",
       "       [0.25409874, 0.2324114 , 0.54029669],\n",
       "       [0.25766296, 0.26785215, 0.46708798],\n",
       "       [0.25887997, 0.24996443, 0.51469649],\n",
       "       [0.26153616, 0.22863   , 0.55367317],\n",
       "       [0.26153616, 0.22863   , 0.55367317],\n",
       "       [0.26323971, 0.24750531, 0.50221112],\n",
       "       [0.26477294, 0.21936676, 0.55698883],\n",
       "       [0.2654072 , 0.26444076, 0.4626692 ],\n",
       "       [0.26935272, 0.23101152, 0.53213089],\n",
       "       [0.26997244, 0.26218007, 0.47947557],\n",
       "       [0.27067485, 0.24237912, 0.53093733],\n",
       "       [0.27185015, 0.20170533, 0.54325689],\n",
       "       [0.27185015, 0.20170533, 0.54325689],\n",
       "       [0.27562893, 0.27089085, 0.4583361 ],\n",
       "       [0.27656603, 0.2454499 , 0.50280165],\n",
       "       [0.27824019, 0.27398049, 0.44082838],\n",
       "       [0.27857578, 0.24936263, 0.49182241],\n",
       "       [0.28028432, 0.23139919, 0.5178572 ],\n",
       "       [0.2808945 , 0.21209533, 0.53228255],\n",
       "       [0.28235491, 0.20986888, 0.5177615 ],\n",
       "       [0.28275078, 0.22541541, 0.50309868],\n",
       "       [0.28337594, 0.30795321, 0.29599752],\n",
       "       [0.28448789, 0.24018939, 0.4994792 ],\n",
       "       [0.28527348, 0.28305962, 0.39789675],\n",
       "       [0.28528317, 0.21548832, 0.50615022],\n",
       "       [0.28654367, 0.24372787, 0.4926904 ],\n",
       "       [0.28732201, 0.27060621, 0.43643417],\n",
       "       [0.28809052, 0.25915528, 0.48811372],\n",
       "       [0.29035175, 0.30348196, 0.29032757],\n",
       "       [0.29081299, 0.28796574, 0.36412704],\n",
       "       [0.29081398, 0.26084921, 0.45618711],\n",
       "       [0.2917961 , 0.29652748, 0.33367768],\n",
       "       [0.29362658, 0.2539385 , 0.47674336],\n",
       "       [0.29489821, 0.31702121, 0.18022668],\n",
       "       [0.29489821, 0.31702121, 0.18022668],\n",
       "       [0.29493283, 0.25871598, 0.43903939],\n",
       "       [0.2963462 , 0.28050362, 0.41039423],\n",
       "       [0.29722675, 0.3036712 , 0.2694252 ],\n",
       "       [0.29772374, 0.31235014, 0.25518002],\n",
       "       [0.29826471, 0.27612651, 0.39832239],\n",
       "       [0.29828634, 0.3113358 , 0.26627639],\n",
       "       [0.29894249, 0.30300901, 0.30285426],\n",
       "       [0.29924578, 0.26990308, 0.42544868],\n",
       "       [0.29991892, 0.30011843, 0.28998199],\n",
       "       [0.30086832, 0.26621219, 0.43479114],\n",
       "       [0.30119476, 0.30017297, 0.27455866],\n",
       "       [0.30230997, 0.24671545, 0.42903297],\n",
       "       [0.30276757, 0.2888995 , 0.35820014],\n",
       "       [0.30280821, 0.29272803, 0.33236261],\n",
       "       [0.30434051, 0.27222935, 0.41026879],\n",
       "       [0.30554   , 0.28621645, 0.382515  ],\n",
       "       [0.3067408 , 0.27563952, 0.37882854],\n",
       "       [0.30686978, 0.26374555, 0.41163038],\n",
       "       [0.30731096, 0.29010951, 0.32210913],\n",
       "       [0.30822197, 0.30579423, 0.18678281],\n",
       "       [0.30899431, 0.29503929, 0.31012049],\n",
       "       [0.30981955, 0.31311887, 0.18651143],\n",
       "       [0.31071607, 0.25768318, 0.36754484],\n",
       "       [0.31194622, 0.30888398, 0.18573844],\n",
       "       [0.31320279, 0.29361679, 0.23964434],\n",
       "       [0.31486637, 0.28456192, 0.3503665 ],\n",
       "       [0.3156066 , 0.27821333, 0.3550632 ],\n",
       "       [0.31608937, 0.29888492, 0.21594675],\n",
       "       [0.31706651, 0.30251259, 0.20940629],\n",
       "       [0.31715238, 0.29480976, 0.21740603],\n",
       "       [0.31812574, 0.27660564, 0.28574706],\n",
       "       [0.3185913 , 0.30469539, 0.19360744],\n",
       "       [0.31901807, 0.28734185, 0.24948476],\n",
       "       [0.31965557, 0.26188445, 0.3163655 ],\n",
       "       [0.32000829, 0.29699733, 0.16506026],\n",
       "       [0.32023836, 0.26790394, 0.31579636],\n",
       "       [0.32071368, 0.26028355, 0.34287328],\n",
       "       [0.32085286, 0.27917111, 0.24953803],\n",
       "       [0.32157851, 0.26987241, 0.24051403],\n",
       "       [0.32311406, 0.29360857, 0.22479553],\n",
       "       [0.32434692, 0.27779264, 0.22877285],\n",
       "       [0.3260361 , 0.29251398, 0.22567111],\n",
       "       [0.3268056 , 0.27657286, 0.22900339],\n",
       "       [0.32715671, 0.2652364 , 0.21377408],\n",
       "       [0.32817454, 0.27514552, 0.16974402],\n",
       "       [0.32870559, 0.28312549, 0.16578951],\n",
       "       [0.33066246, 0.26449809, 0.19878027]])"
      ]
     },
     "execution_count": 17,
     "metadata": {},
     "output_type": "execute_result"
    }
   ],
   "source": [
    "# sort fits in order of first objective value\n",
    "x = -fits.copy()\n",
    "x[x[:, 0].argsort()]"
   ]
  },
  {
   "cell_type": "code",
   "execution_count": null,
   "metadata": {},
   "outputs": [],
   "source": []
  }
 ],
 "metadata": {
  "kernelspec": {
   "display_name": "Python 3",
   "language": "python",
   "name": "python3"
  },
  "language_info": {
   "codemirror_mode": {
    "name": "ipython",
    "version": 3
   },
   "file_extension": ".py",
   "mimetype": "text/x-python",
   "name": "python",
   "nbconvert_exporter": "python",
   "pygments_lexer": "ipython3",
   "version": "3.7.6"
  }
 },
 "nbformat": 4,
 "nbformat_minor": 2
}
